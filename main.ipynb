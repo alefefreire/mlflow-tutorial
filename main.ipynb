{
 "cells": [
  {
   "cell_type": "code",
   "execution_count": null,
   "id": "b33a1ff8-aa31-4171-85a1-0bb500d276a0",
   "metadata": {},
   "outputs": [],
   "source": [
    "from dotenv import load_dotenv\n",
    "import os\n",
    "from src.services.data_fetch import DataFetch\n",
    "from src.services.pipeline import MLPipeline\n",
    "from src.core._mlflow import mlflow_init\n",
    "load_dotenv()\n",
    "\n",
    "from kaggle.api.kaggle_api_extended import KaggleApi  # noqa: E402\n",
    "\n",
    "\n",
    "def run() -> None:\n",
    "    \"\"\"\n",
    "    Run the entire pipeline.\n",
    "    \"\"\"\n",
    "    kaggle_api_client = KaggleApi()\n",
    "    _ = kaggle_api_client.authenticate()\n",
    "\n",
    "    experiment = mlflow_init(\n",
    "        experiment_name=\"Raisin\",\n",
    "        uri=os.getenv(\"MLFLOW_TRACKING_URI\"),\n",
    "    )\n",
    "    \n",
    "    data_fetch = DataFetch(kaggle_client=kaggle_api_client)\n",
    "    dataset = data_fetch.fetch()\n",
    "\n",
    "    pipeline = MLPipeline(dataset=dataset, experiment=experiment)\n",
    "    pipeline.run_pipeline()\n",
    "\n",
    "\n",
    "if __name__ == \"__main__\":\n",
    "    run()"
   ]
  },
  {
   "cell_type": "code",
   "execution_count": null,
   "id": "88d1129d-b0a3-45aa-b337-b18a937ea285",
   "metadata": {},
   "outputs": [],
   "source": []
  }
 ],
 "metadata": {
  "kernelspec": {
   "display_name": ".venv",
   "language": "python",
   "name": "python3"
  },
  "language_info": {
   "codemirror_mode": {
    "name": "ipython",
    "version": 3
   },
   "file_extension": ".py",
   "mimetype": "text/x-python",
   "name": "python",
   "nbconvert_exporter": "python",
   "pygments_lexer": "ipython3",
   "version": "3.12.3"
  }
 },
 "nbformat": 4,
 "nbformat_minor": 5
}
